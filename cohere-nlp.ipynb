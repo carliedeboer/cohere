{
 "cells": [
  {
   "cell_type": "markdown",
   "id": "9f9c3c1e",
   "metadata": {},
   "source": [
    "### I used Cohere.ai's NLP model to...\n",
    "#### 1. Generate an answer to a silly question (xlarge)\n",
    "#### 2. Classify labelled restaurant reviews (medium) \n",
    "Original open source dataset: https://www.kaggle.com/datasets/d4rklucif3r/restaurant-reviews?select=Restaurant_Reviews.tsv"
   ]
  },
  {
   "cell_type": "code",
   "execution_count": 121,
   "id": "2283325c",
   "metadata": {},
   "outputs": [],
   "source": [
    "import pandas as pd\n",
    "import numpy as np\n",
    "import cohere\n",
    "from sklearn.model_selection import train_test_split\n",
    "pd.set_option('display.max_colwidth', None)"
   ]
  },
  {
   "cell_type": "code",
   "execution_count": 122,
   "id": "2c23f294",
   "metadata": {
    "scrolled": true
   },
   "outputs": [
    {
     "name": "stdout",
     "output_type": "stream",
     "text": [
      "Requirement already satisfied: cohere in /Users/cdeboer/opt/anaconda3/lib/python3.8/site-packages (1.3.1)\r\n",
      "Requirement already satisfied: requests in /Users/cdeboer/opt/anaconda3/lib/python3.8/site-packages (from cohere) (2.25.1)\r\n",
      "Requirement already satisfied: certifi>=2017.4.17 in /Users/cdeboer/opt/anaconda3/lib/python3.8/site-packages (from requests->cohere) (2020.12.5)\r\n",
      "Requirement already satisfied: chardet<5,>=3.0.2 in /Users/cdeboer/opt/anaconda3/lib/python3.8/site-packages (from requests->cohere) (4.0.0)\r\n",
      "Requirement already satisfied: idna<3,>=2.5 in /Users/cdeboer/opt/anaconda3/lib/python3.8/site-packages (from requests->cohere) (2.10)\r\n",
      "Requirement already satisfied: urllib3<1.27,>=1.21.1 in /Users/cdeboer/opt/anaconda3/lib/python3.8/site-packages (from requests->cohere) (1.26.4)\r\n"
     ]
    }
   ],
   "source": [
    "# Install cohere\n",
    "!pip install cohere"
   ]
  },
  {
   "cell_type": "markdown",
   "id": "3656fda9",
   "metadata": {},
   "source": [
    "#### Prediction (xlarge)"
   ]
  },
  {
   "cell_type": "code",
   "execution_count": 126,
   "id": "00a991b8",
   "metadata": {
    "scrolled": true
   },
   "outputs": [
    {
     "name": "stdout",
     "output_type": "stream",
     "text": [
      "Prediction:  The existentialist philosophers say that the purpose of life is to find meaning in life. For them, life is meaningless and the absurd is our everyday existence. To be or not to be? The second wave of existentialists, however, takes a different\n"
     ]
    }
   ],
   "source": [
    "# Import prediction model\n",
    "import cohere\n",
    "co = cohere.Client('o2OB2mK1wit3odwFBcnFHAqKLZ7pG6lCMiYKgtof')\n",
    "prediction = co.generate(\n",
    "  model='xlarge',\n",
    "  prompt='What is the meaning of life?',\n",
    "#Set max tokens to 50 for a pithy answer! \n",
    "  max_tokens=50,\n",
    "  temperature=1,\n",
    "  k=0,\n",
    "  p=0.75)\n",
    "print('Prediction: {}'.format(prediction.generations[0].text))"
   ]
  },
  {
   "cell_type": "markdown",
   "id": "a5b1572c",
   "metadata": {},
   "source": [
    "##### Very existential!"
   ]
  },
  {
   "cell_type": "markdown",
   "id": "cfe67729",
   "metadata": {},
   "source": [
    "#### Classify (medium)"
   ]
  },
  {
   "cell_type": "code",
   "execution_count": 127,
   "id": "80b6f01e",
   "metadata": {},
   "outputs": [],
   "source": [
    "df = pd.read_csv('https://raw.githubusercontent.com/carliedeboer/cohere/main/restaurants_reviews.tsv', delimiter='\\t', header=None)"
   ]
  },
  {
   "cell_type": "markdown",
   "id": "33e8ccd6",
   "metadata": {},
   "source": [
    "#### EDA"
   ]
  },
  {
   "cell_type": "code",
   "execution_count": 128,
   "id": "3745d5d9",
   "metadata": {},
   "outputs": [
    {
     "data": {
      "text/html": [
       "<div>\n",
       "<style scoped>\n",
       "    .dataframe tbody tr th:only-of-type {\n",
       "        vertical-align: middle;\n",
       "    }\n",
       "\n",
       "    .dataframe tbody tr th {\n",
       "        vertical-align: top;\n",
       "    }\n",
       "\n",
       "    .dataframe thead th {\n",
       "        text-align: right;\n",
       "    }\n",
       "</style>\n",
       "<table border=\"1\" class=\"dataframe\">\n",
       "  <thead>\n",
       "    <tr style=\"text-align: right;\">\n",
       "      <th></th>\n",
       "      <th>0</th>\n",
       "      <th>1</th>\n",
       "    </tr>\n",
       "  </thead>\n",
       "  <tbody>\n",
       "    <tr>\n",
       "      <th>0</th>\n",
       "      <td>Wow... Loved this place.</td>\n",
       "      <td>1</td>\n",
       "    </tr>\n",
       "    <tr>\n",
       "      <th>1</th>\n",
       "      <td>Crust is not good.</td>\n",
       "      <td>0</td>\n",
       "    </tr>\n",
       "    <tr>\n",
       "      <th>2</th>\n",
       "      <td>Not tasty and the texture was just nasty.</td>\n",
       "      <td>0</td>\n",
       "    </tr>\n",
       "    <tr>\n",
       "      <th>3</th>\n",
       "      <td>Stopped by during the late May bank holiday off Rick Steve recommendation and loved it.</td>\n",
       "      <td>1</td>\n",
       "    </tr>\n",
       "    <tr>\n",
       "      <th>4</th>\n",
       "      <td>The selection on the menu was great and so were the prices.</td>\n",
       "      <td>1</td>\n",
       "    </tr>\n",
       "  </tbody>\n",
       "</table>\n",
       "</div>"
      ],
      "text/plain": [
       "                                                                                         0  \\\n",
       "0                                                                 Wow... Loved this place.   \n",
       "1                                                                       Crust is not good.   \n",
       "2                                                Not tasty and the texture was just nasty.   \n",
       "3  Stopped by during the late May bank holiday off Rick Steve recommendation and loved it.   \n",
       "4                              The selection on the menu was great and so were the prices.   \n",
       "\n",
       "   1  \n",
       "0  1  \n",
       "1  0  \n",
       "2  0  \n",
       "3  1  \n",
       "4  1  "
      ]
     },
     "execution_count": 128,
     "metadata": {},
     "output_type": "execute_result"
    }
   ],
   "source": [
    "df.head()"
   ]
  },
  {
   "cell_type": "code",
   "execution_count": 129,
   "id": "f8ef009a",
   "metadata": {},
   "outputs": [
    {
     "data": {
      "text/plain": [
       "0    1000\n",
       "1    1000\n",
       "dtype: int64"
      ]
     },
     "execution_count": 129,
     "metadata": {},
     "output_type": "execute_result"
    }
   ],
   "source": [
    "df.count()"
   ]
  },
  {
   "cell_type": "code",
   "execution_count": 130,
   "id": "e7eab059",
   "metadata": {},
   "outputs": [],
   "source": [
    "num_examples = 1000\n",
    "df_sample = df.sample(num_examples)"
   ]
  },
  {
   "cell_type": "markdown",
   "id": "02556dfb",
   "metadata": {},
   "source": [
    "#### Train & Test Sets"
   ]
  },
  {
   "cell_type": "code",
   "execution_count": 131,
   "id": "0f9740e2",
   "metadata": {},
   "outputs": [],
   "source": [
    "# Split into train & test sets\n",
    "sentences_train, sentences_test, labels_train, labels_test = train_test_split(\n",
    "            list(df_sample[0]), list(df_sample[1]), test_size=0.25, random_state=42)"
   ]
  },
  {
   "cell_type": "code",
   "execution_count": 132,
   "id": "53bcc920",
   "metadata": {},
   "outputs": [],
   "source": [
    "# Create & retrieve API key\n",
    "api_key = \"o2OB2mK1wit3odwFBcnFHAqKLZ7pG6lCMiYKgtof\"\n",
    "co = cohere.Client(api_key)"
   ]
  },
  {
   "cell_type": "code",
   "execution_count": 133,
   "id": "a5be8848",
   "metadata": {},
   "outputs": [],
   "source": [
    "# Embed train & test sets\n",
    "embeddings_train = co.embed(texts=sentences_train,\n",
    "                             model=\"large\",\n",
    "                             truncate=\"LEFT\").embeddings\n",
    "\n",
    "embeddings_test = co.embed(texts=sentences_test,\n",
    "                             model=\"large\",\n",
    "                             truncate=\"LEFT\").embeddings"
   ]
  },
  {
   "cell_type": "code",
   "execution_count": 134,
   "id": "2ba7c05e",
   "metadata": {},
   "outputs": [
    {
     "data": {
      "text/plain": [
       "Pipeline(steps=[('standardscaler', StandardScaler()),\n",
       "                ('svc', SVC(class_weight='balanced'))])"
      ]
     },
     "execution_count": 134,
     "metadata": {},
     "output_type": "execute_result"
    }
   ],
   "source": [
    "# Import SVM classifier code\n",
    "from sklearn.svm import SVC\n",
    "from sklearn.pipeline import make_pipeline\n",
    "from sklearn.preprocessing import StandardScaler\n",
    "\n",
    "\n",
    "# Initialize support vector machine, with class_weight='balanced'\n",
    "svm_classifier = make_pipeline(StandardScaler(), SVC(class_weight='balanced')) \n",
    "\n",
    "# Fit the support vector machine\n",
    "svm_classifier.fit(embeddings_train, labels_train)"
   ]
  },
  {
   "cell_type": "code",
   "execution_count": 135,
   "id": "a571c031",
   "metadata": {},
   "outputs": [
    {
     "name": "stdout",
     "output_type": "stream",
     "text": [
      "Validation accuracy on medium is 96.39999999999999%!\n"
     ]
    }
   ],
   "source": [
    "# Get the score! \n",
    "score = svm_classifier.score(embeddings_test, labels_test)\n",
    "print(f\"Validation accuracy on medium is {100*score}%!\")"
   ]
  },
  {
   "cell_type": "markdown",
   "id": "56687739",
   "metadata": {},
   "source": [
    "##### WIN! "
   ]
  }
 ],
 "metadata": {
  "kernelspec": {
   "display_name": "Python 3",
   "language": "python",
   "name": "python3"
  },
  "language_info": {
   "codemirror_mode": {
    "name": "ipython",
    "version": 3
   },
   "file_extension": ".py",
   "mimetype": "text/x-python",
   "name": "python",
   "nbconvert_exporter": "python",
   "pygments_lexer": "ipython3",
   "version": "3.8.8"
  }
 },
 "nbformat": 4,
 "nbformat_minor": 5
}
